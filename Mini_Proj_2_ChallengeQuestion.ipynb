{
  "nbformat": 4,
  "nbformat_minor": 0,
  "metadata": {
    "colab": {
      "provenance": [],
      "authorship_tag": "ABX9TyN4ihrEtJPYVcl45dnj8drN",
      "include_colab_link": true
    },
    "kernelspec": {
      "name": "python3",
      "display_name": "Python 3"
    },
    "language_info": {
      "name": "python"
    }
  },
  "cells": [
    {
      "cell_type": "markdown",
      "metadata": {
        "id": "view-in-github",
        "colab_type": "text"
      },
      "source": [
        "<a href=\"https://colab.research.google.com/github/Cipher911/Mini-Proj-2-ChallengeQuestion/blob/main/Mini_Proj_2_ChallengeQuestion.ipynb\" target=\"_parent\"><img src=\"https://colab.research.google.com/assets/colab-badge.svg\" alt=\"Open In Colab\"/></a>"
      ]
    },
    {
      "cell_type": "code",
      "execution_count": 6,
      "metadata": {
        "colab": {
          "base_uri": "https://localhost:8080/"
        },
        "id": "JFYTvj-Bstle",
        "outputId": "f4f32f33-61e5-42a8-9ee3-2f821a71934d"
      },
      "outputs": [
        {
          "output_type": "stream",
          "name": "stdout",
          "text": [
            "['Ram', 1, 'Shyam', 2, 'Aman', 3]\n",
            "['1', '2', '3', 'Aman', 'Ram', 'Shyam']\n",
            "Time taken 0.002821207046508789\n"
          ]
        }
      ],
      "source": [
        "import time\n",
        "t1=time.time()\n",
        "L=[\"Ram\",1,\"Shyam\",2,\"Aman\",3]\n",
        "\n",
        "print(L)\n",
        "L=[str(i) for i in L]\n",
        "L.sort()\n",
        "print(L)\n",
        "t2=time.time()\n",
        "print(\"Time taken\",t2-t1)"
      ]
    },
    {
      "cell_type": "code",
      "source": [],
      "metadata": {
        "id": "sXJfUwKwwHQ-"
      },
      "execution_count": null,
      "outputs": []
    }
  ]
}